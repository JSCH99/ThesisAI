{
 "cells": [
  {
   "cell_type": "code",
   "execution_count": null,
   "metadata": {},
   "outputs": [],
   "source": [
    "# Part of the code is based on: https://dzone.com/articles/extending-q-learning-with-dyna-q#:~:text=Update%20Rule%20%2D%20Q%2Dvalues%20are,the%20importance%20of%20future%20rewards}"
   ]
  },
  {
   "cell_type": "code",
   "execution_count": 1,
   "metadata": {},
   "outputs": [],
   "source": [
    "import gym\n",
    "import numpy as np\n",
    "import random\n",
    "import pandas as pd\n",
    "from collections import defaultdict\n",
    "import matplotlib.pyplot as plt\n",
    "import seaborn as sns\n",
    "from matplotlib.colors import LinearSegmentedColormap\n",
    "from matplotlib.patches import Patch\n",
    "from hyperopt import fmin, tpe, hp"
   ]
  },
  {
   "cell_type": "code",
   "execution_count": 2,
   "metadata": {},
   "outputs": [],
   "source": [
    "env = gym.make('Blackjack-v1')"
   ]
  },
  {
   "cell_type": "code",
   "execution_count": 12,
   "metadata": {},
   "outputs": [],
   "source": [
    "def initialize_q_values(env):\n",
    "    nA = env.action_space.n\n",
    "    return defaultdict(lambda: np.zeros(nA))\n",
    "\n",
    "\n",
    "def get_action(state, q_values, epsilon):\n",
    "    if np.random.random() < epsilon:\n",
    "        action = env.action_space.sample()\n",
    "    else:\n",
    "        action = np.argmax(q_values[state])\n",
    "    return action\n",
    "\n",
    "\n",
    "def update(state, action, reward, next_state, q_values, lr, gamma, done):\n",
    "    old_q_value = q_values[state][action]\n",
    "    max_future_q = np.max(q_values[next_state])\n",
    "    target = reward + lr * (gamma * max_future_q) * (1 - done)\n",
    "    q_values[state][action] = (1 - lr) * old_q_value + lr * target\n",
    "    \n",
    "    \n",
    "def decay_epsilon(epsilon, epsilon_decay):\n",
    "    return epsilon -= epsilon_decay\n"
   ]
  },
  {
   "cell_type": "code",
   "execution_count": 21,
   "metadata": {},
   "outputs": [],
   "source": [
    "def train_dynaq(n_episodes, epsilon, lr, gamma, planning_steps):\n",
    "    q_values = initialize_q_values(env)\n",
    "    epsilon_decay = epsilon / n_episodes\n",
    "    model = defaultdict(dict)\n",
    "    stats = []\n",
    "    \n",
    "    win = 0\n",
    "#     loss = 0\n",
    "#     total_reward = 0\n",
    "\n",
    "    for episode in range(n_episodes):\n",
    "        state = env.reset()[0]\n",
    "        done = False\n",
    "\n",
    "        while not done:\n",
    "            action = get_action(state, q_values, epsilon)\n",
    "            next_state, reward, done, _, _ = env.step(action)\n",
    "            update(state, action, reward, next_state, q_values, lr, gamma, done)\n",
    "            model[state][action] = (reward, next_state, done)\n",
    "\n",
    "            for _ in range(planning_steps):\n",
    "                random_state, actions = random.choice(list(model.items()))\n",
    "                random_action = random.choice(list(actions))\n",
    "                sample_reward, sample_next_state, _ = model[random_state][random_action]\n",
    "                update(random_state, random_action, sample_reward, sample_next_state, q_values, lr, gamma, False)\n",
    "\n",
    "            state = next_state\n",
    "\n",
    "            if reward >= 1:\n",
    "                win += 1\n",
    "#             elif reward == -1:\n",
    "#                 loss += 1\n",
    "\n",
    "#             total_reward += reward\n",
    "            \n",
    "            winrates = (win/(episode + 1))*100\n",
    "            \n",
    "            stats.append([episode, winrates])\n",
    "\n",
    "#     df = pd.DataFrame(stats, columns=['Episode', 'WinRates'])\n",
    "#     df.to_csv(\"dynaq_stats\", index=False)\n",
    "\n",
    "    winrate = win / n_episodes\n",
    "#     lossrate = loss / n_episodes\n",
    "#     avg_reward = total_reward / n_episodes\n",
    "    \n",
    "    # Print or store the results as needed\n",
    "#     print('Overall Win rate: {:.2f}%'.format(overall_winrate * 100))\n",
    "#     print('Overall Loss rate: {:.2f}%'.format(overall_lossrate * 100))\n",
    "#     print('Overall Average reward: {:.2f}'.format(overall_avg_reward))\n",
    "\n",
    "\n",
    "    return q_values, winrate\n"
   ]
  },
  {
   "cell_type": "code",
   "execution_count": 22,
   "metadata": {},
   "outputs": [],
   "source": [
    "num_episodes = 1_000_000\n",
    "planning_steps = 50\n",
    "epsilon = 0.5429690322794312\n",
    "learning_rate = 0.0009218187326061286\n",
    "gamma = 0.7682696531250257\n",
    "\n",
    "q_values, winrate = train_dynaq(num_episodes, epsilon, learning_rate, gamma, planning_steps)\n"
   ]
  },
  {
   "cell_type": "code",
   "execution_count": 6,
   "metadata": {},
   "outputs": [],
   "source": [
    "def test_policy(env, q_values, num_episodes):\n",
    "    wins = 0\n",
    "    losses = 0\n",
    "    total_reward = 0  \n",
    "    \n",
    "    for _ in range(num_episodes):\n",
    "        state = env.reset()[0]\n",
    "        done = False\n",
    "        episode_reward = 0  \n",
    "        \n",
    "        while not done:\n",
    "            action = get_best_action(state, q_values)\n",
    "            next_state, reward, done, _, _ = env.step(action)\n",
    "            episode_reward += reward  \n",
    "            state = next_state\n",
    "            \n",
    "    \n",
    "        if reward >= 1.0:\n",
    "            wins += 1\n",
    "        elif reward == -1.0:\n",
    "            losses += 1\n",
    "        \n",
    "        total_reward += episode_reward \n",
    "    \n",
    "    win_rate = wins / num_episodes\n",
    "    average_reward = total_reward / num_episodes \n",
    "    \n",
    "    print(f\"Tested on {num_episodes} episodes\")\n",
    "    print(f\"Win rate: {win_rate * 100:.2f}%\")\n",
    "    print(f\"Loss rate: {(losses / num_episodes) * 100:.2f}%\")\n",
    "    print(f\"Average reward: {average_reward:.2f}\")\n",
    "    return win_rate, average_reward"
   ]
  },
  {
   "cell_type": "code",
   "execution_count": 7,
   "metadata": {},
   "outputs": [],
   "source": [
    "def get_best_action(state, q_values):\n",
    "    return np.argmax(q_values[state])"
   ]
  },
  {
   "cell_type": "code",
   "execution_count": 8,
   "metadata": {},
   "outputs": [
    {
     "name": "stdout",
     "output_type": "stream",
     "text": [
      "Tested on 1000000 episodes\n",
      "Win rate: 42.66%\n",
      "Loss rate: 48.72%\n",
      "Average reward: -0.06\n"
     ]
    }
   ],
   "source": [
    "num_episodes = 1_000_000\n",
    "win_rate = test_policy(env, q_values, num_episodes)"
   ]
  },
  {
   "cell_type": "code",
   "execution_count": null,
   "metadata": {},
   "outputs": [],
   "source": [
    "# Part of the code for plotting the policy was used from: https://gymnasium.farama.org/tutorials/training_agents/blackjack_tutorial/"
   ]
  },
  {
   "cell_type": "code",
   "execution_count": 27,
   "metadata": {},
   "outputs": [],
   "source": [
    "def create_grids(agent, use_ace):\n",
    "    usable_ace = use_ace\n",
    "    V = defaultdict(float)\n",
    "    policy = defaultdict(int)\n",
    "\n",
    "    for obs, action_values in agent.items():\n",
    "        V[obs] = np.max(action_values)\n",
    "        policy[obs] = np.argmax(action_values)\n",
    "\n",
    "    X, Y = np.meshgrid(\n",
    "        np.arange(12, 22),  # players count\n",
    "        np.arange(1, 11))   # dealers face-up card\n",
    "\n",
    "    Z = np.apply_along_axis(lambda obs: V[(obs[0], obs[1], usable_ace)], axis=2, arr=np.dstack([X, Y]))\n",
    "    value_grid = X, Y, Z\n",
    "\n",
    "    policy_grid = np.apply_along_axis(lambda obs: policy[(obs[0], obs[1], usable_ace)],\n",
    "                                      axis=2, arr=np.dstack([X, Y]))\n",
    "    \n",
    "    return value_grid, policy_grid\n",
    "\n",
    "\n",
    "def create_plots(policy_grid, titles):\n",
    "    custom_cmap = LinearSegmentedColormap.from_list('custom', [\"lightcoral\", \"white\", \"lightgreen\"], N=256)\n",
    "\n",
    "    fig, ax = plt.subplots(figsize=(8, 6))\n",
    "    heatmap = sns.heatmap(policy_grid, linewidth=0, annot=True, cmap=custom_cmap, cbar=False)\n",
    "    heatmap.set_title('Policy: ' + titles)\n",
    "    heatmap.set_xlabel(\"Player sum\")\n",
    "    heatmap.set_ylabel(\"Dealer card\")\n",
    "    heatmap.set_xticklabels(range(12, 22))\n",
    "    heatmap.set_yticklabels(['A'] + list(range(2, 11)), fontsize=12)\n",
    "\n",
    "    legend_elements = [Patch(facecolor='lightgreen', edgecolor='black', label='Hit'),\n",
    "                       Patch(facecolor='lightcoral', edgecolor='black', label='Stick')]\n",
    "    heatmap.legend(handles=legend_elements, bbox_to_anchor=(1.3, 1))\n",
    "#     plt.savefig(\"Dyna-Q \" + titles)\n",
    "    plt.show()"
   ]
  },
  {
   "cell_type": "code",
   "execution_count": 28,
   "metadata": {},
   "outputs": [
    {
     "data": {
      "image/png": "[encoded data removed]",
      "text/plain": [
       "<Figure size 576x432 with 1 Axes>"
      ]
     },
     "metadata": {
      "needs_background": "light"
     },
     "output_type": "display_data"
    },
    {
     "data": {
      "image/png": "[encoded data removed]",
      "text/plain": [
       "<Figure size 576x432 with 1 Axes>"
      ]
     },
     "metadata": {
      "needs_background": "light"
     },
     "output_type": "display_data"
    }
   ],
   "source": [
    "use_ace = True\n",
    "value_grid, policy_grid = create_grids(q_values, use_ace)\n",
    "create_plots(policy_grid, titles=\"With usable ace\")\n",
    "\n",
    "use_ace = False\n",
    "value_grid, policy_grid = create_grids(q_values, use_ace)\n",
    "create_plots(policy_grid, titles=\"Without usable ace\")"
   ]
  },
  {
   "cell_type": "code",
   "execution_count": 9,
   "metadata": {},
   "outputs": [
    {
     "name": "stdout",
     "output_type": "stream",
     "text": [
      "Tested on 1000000 episodes\n",
      "Win rate: 42.63%\n",
      "Loss rate: 48.77%\n",
      "Average reward: -0.06\n",
      "1 of 10 actions completed...\n",
      "Tested on 1000000 episodes\n",
      "Win rate: 42.62%\n",
      "Loss rate: 48.74%\n",
      "Average reward: -0.06\n",
      "2 of 10 actions completed...\n",
      "Tested on 1000000 episodes\n",
      "Win rate: 42.64%\n",
      "Loss rate: 48.76%\n",
      "Average reward: -0.06\n",
      "3 of 10 actions completed...\n",
      "Tested on 1000000 episodes\n",
      "Win rate: 42.62%\n",
      "Loss rate: 48.78%\n",
      "Average reward: -0.06\n",
      "4 of 10 actions completed...\n",
      "Tested on 1000000 episodes\n",
      "Win rate: 42.64%\n",
      "Loss rate: 48.70%\n",
      "Average reward: -0.06\n",
      "5 of 10 actions completed...\n",
      "Tested on 1000000 episodes\n",
      "Win rate: 42.63%\n",
      "Loss rate: 48.69%\n",
      "Average reward: -0.06\n",
      "6 of 10 actions completed...\n",
      "Tested on 1000000 episodes\n",
      "Win rate: 42.68%\n",
      "Loss rate: 48.73%\n",
      "Average reward: -0.06\n",
      "7 of 10 actions completed...\n",
      "Tested on 1000000 episodes\n",
      "Win rate: 42.68%\n",
      "Loss rate: 48.73%\n",
      "Average reward: -0.06\n",
      "8 of 10 actions completed...\n",
      "Tested on 1000000 episodes\n",
      "Win rate: 42.62%\n",
      "Loss rate: 48.77%\n",
      "Average reward: -0.06\n",
      "9 of 10 actions completed...\n",
      "Tested on 1000000 episodes\n",
      "Win rate: 42.68%\n",
      "Loss rate: 48.70%\n",
      "Average reward: -0.06\n",
      "10 of 10 actions completed...\n",
      "Average win rate: 42.64%\n",
      "[(0.426303, -0.061379), (0.426179, -0.061188), (0.426369, -0.061235), (0.426205, -0.061571), (0.426393, -0.060646), (0.426296, -0.060629), (0.426776, -0.060504), (0.426804, -0.060469), (0.426208, -0.061515), (0.426815, -0.060199)]\n"
     ]
    }
   ],
   "source": [
    "def run_iterations(env, episodes, lr, epsilon, gamma, num_iterations):\n",
    "    total_win = 0\n",
    "    total_loss = 0\n",
    "    total_reward = 0\n",
    "    win_list = []\n",
    "\n",
    "    for _ in range(num_iterations):\n",
    "        win_rate = test_policy(env, q_values, episodes)\n",
    "        total_win += win_rate[0]\n",
    "#         total_loss += loss_rate\n",
    "#         total_reward += avg_reward\n",
    "        win_list.append(win_rate[0])\n",
    "        print(\"{} of {} actions completed...\".format(_ + 1, num_iterations))\n",
    "\n",
    "    avg_win_rate = total_win / num_iterations\n",
    "#     avg_loss_rate = total_loss / num_iterations\n",
    "#     avg_total_reward = total_reward / num_iterations\n",
    "\n",
    "    print('Average win rate: {:.2f}%'.format(avg_win_rate * 100))\n",
    "#     print('Average loss rate: {:.2f}%'.format(avg_loss_rate * 100))\n",
    "#     print('Average reward: {:.4f}'.format(avg_total_reward))\n",
    "    print(win_list)\n",
    "\n",
    "epsilon = 0.5429690322794312\n",
    "lr = 0.0009218187326061286\n",
    "gamma = 0.7682696531250257\n",
    "episodes = 1_000_000\n",
    "num_itterations = 10\n",
    "\n",
    "run_iterations(env, episodes, lr, epsilon, gamma, num_itterations)\n"
   ]
  },
  {
   "cell_type": "code",
   "execution_count": null,
   "metadata": {},
   "outputs": [],
   "source": [
    "# [42.63, 42.62, 42.64, 42.62, 42.64, 42.63, 42.68, 42.68, 42.62, 42.68]"
   ]
  }
 ],
 "metadata": {
  "kernelspec": {
   "display_name": "Python 3",
   "language": "python",
   "name": "python3"
  },
  "language_info": {
   "codemirror_mode": {
    "name": "ipython",
    "version": 3
   },
   "file_extension": ".py",
   "mimetype": "text/x-python",
   "name": "python",
   "nbconvert_exporter": "python",
   "pygments_lexer": "ipython3",
   "version": "3.7.4"
  }
 },
 "nbformat": 4,
 "nbformat_minor": 4
}
