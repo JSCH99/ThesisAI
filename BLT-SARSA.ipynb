{
 "cells": [
  {
   "cell_type": "code",
   "execution_count": null,
   "metadata": {},
   "outputs": [],
   "source": [
    "# Part of the code is based on: https://www.geeksforgeeks.org/sarsa-reinforcement-learning/"
   ]
  },
  {
   "cell_type": "code",
   "execution_count": 2,
   "metadata": {},
   "outputs": [],
   "source": [
    "import gym\n",
    "import numpy as np\n",
    "import pandas as pd\n",
    "from collections import defaultdict\n",
    "from matplotlib.patches import Patch\n",
    "import matplotlib.pyplot as plt\n",
    "import seaborn as sns\n",
    "from matplotlib.colors import LinearSegmentedColormap\n",
    "from hyperopt import fmin, tpe, hp"
   ]
  },
  {
   "cell_type": "code",
   "execution_count": 3,
   "metadata": {},
   "outputs": [],
   "source": [
    "env = gym.make('Blackjack-v1')"
   ]
  },
  {
   "cell_type": "code",
   "execution_count": 4,
   "metadata": {},
   "outputs": [],
   "source": [
    "def initialize_q_values(env):\n",
    "    nA = env.action_space.n\n",
    "    return defaultdict(lambda: np.zeros(nA))\n",
    "\n",
    "def get_action(state, q_values, epsilon):\n",
    "    if np.random.random() < epsilon:\n",
    "        action = env.action_space.sample()\n",
    "    else:\n",
    "        action = np.argmax(q_values[state])\n",
    "    return action\n",
    "\n",
    "\n",
    "def update_q_values(curr_state, curr_action, reward, next_state, next_action, q_values, lr, gamma):\n",
    "    td_target = reward + gamma * q_values[next_state][next_action]\n",
    "    td_error = td_target - q_values[curr_state][curr_action]\n",
    "    q_values[curr_state][curr_action] += lr * td_error\n"
   ]
  },
  {
   "cell_type": "code",
   "execution_count": 5,
   "metadata": {},
   "outputs": [],
   "source": [
    "def train_sarsa(env, n_episodes, lr, epsilon, gamma):\n",
    "    q_values = initialize_q_values(env)\n",
    "    epsilon_decay = epsilon / n_episodes\n",
    "    stats = []\n",
    "    win = 0\n",
    "    loss = 0\n",
    "\n",
    "    for episode in range(n_episodes):\n",
    "        dict_state = env.reset()\n",
    "        state = dict_state[0]\n",
    "        done = False\n",
    "\n",
    "        while not done:\n",
    "            action = get_action(state, q_values, epsilon)\n",
    "            next_state, reward, done, _, _ = env.step(action)\n",
    "            next_action = get_action(next_state, q_values, epsilon)\n",
    "            update_q_values(state, action, reward, next_state, next_action, q_values, lr, gamma)\n",
    "            state = next_state\n",
    "        \n",
    "        if reward >= 1.0:\n",
    "            win += 1\n",
    "        elif reward == -1.0:\n",
    "            loss += 1\n",
    "            \n",
    "        winrates = (win/(episode + 1))*100\n",
    "            \n",
    "        stats.append([episode, winrates])\n",
    "            \n",
    "            \n",
    "#     df = pd.DataFrame(stats, columns=['Episode', 'WinRates'])\n",
    "#     df.to_csv(\"sarsa_stats\", index=False)\n",
    "\n",
    "    winrate = win / n_episodes\n",
    "    lossrate = loss / n_episodes\n",
    "\n",
    "#     print('Win rate: {:.2f}%'.format(winrate * 100))\n",
    "#     print('Loss rate: {:.2f}%'.format(lossrate * 100))\n",
    "#     print('Average reward: {:.4f}'.format(avg_reward))\n",
    "        \n",
    "    return q_values, winrate\n",
    "\n"
   ]
  },
  {
   "cell_type": "code",
   "execution_count": 6,
   "metadata": {},
   "outputs": [
    {
     "name": "stdout",
     "output_type": "stream",
     "text": [
      "100%|██████████| 100/100 [00:02<00:00, 36.18trial/s, best loss: -0.44]\n",
      "Best hyperparameters: {'epsilon': 0.048328102651491955, 'gamma': 0.28534619624032065, 'lr': 0.5493100700732033}\n"
     ]
    }
   ],
   "source": [
    "space = {\n",
    "    'lr': hp.uniform('lr', 0, 1),\n",
    "    'epsilon': hp.uniform('epsilon', 0, 1),\n",
    "    'gamma': hp.uniform('gamma', 0, 1)\n",
    "}\n",
    "def objective(params):\n",
    "    lr = params['lr']\n",
    "    epsilon = params['epsilon']\n",
    "    gamma = params['gamma']\n",
    "    n_episodes = 100_000\n",
    "\n",
    "    q_values, winrate = train_sarsa(env, n_episodes, lr, epsilon, gamma)\n",
    "    return -winrate #need to minimize the return\n",
    "\n",
    "best = fmin(fn=objective, space=space, algo=tpe.suggest, max_evals=100)\n",
    "print(\"Best hyperparameters:\", best)\n"
   ]
  },
  {
   "cell_type": "code",
   "execution_count": null,
   "metadata": {},
   "outputs": [],
   "source": [
    "# Part of the code for plotting the policy was used from: https://gymnasium.farama.org/tutorials/training_agents/blackjack_tutorial/"
   ]
  },
  {
   "cell_type": "code",
   "execution_count": 7,
   "metadata": {},
   "outputs": [],
   "source": [
    "def create_grids(agent, use_ace):\n",
    "    usable_ace = use_ace\n",
    "    V = defaultdict(float)\n",
    "    policy = defaultdict(int)\n",
    "\n",
    "    for obs, action_values in agent.items():\n",
    "        V[obs] = np.max(action_values)\n",
    "        policy[obs] = np.argmax(action_values)\n",
    "\n",
    "    X, Y = np.meshgrid(\n",
    "        np.arange(12, 22),  # players count\n",
    "        np.arange(1, 11))   # dealers face-up card\n",
    "\n",
    "    Z = np.apply_along_axis(lambda obs: V[(obs[0], obs[1], usable_ace)], axis=2, arr=np.dstack([X, Y]))\n",
    "    value_grid = X, Y, Z\n",
    "\n",
    "    policy_grid = np.apply_along_axis(lambda obs: policy[(obs[0], obs[1], usable_ace)],\n",
    "                                      axis=2, arr=np.dstack([X, Y]))\n",
    "    \n",
    "    return value_grid, policy_grid\n",
    "\n",
    "\n",
    "def create_plots(policy_grid, titles):\n",
    "    custom_cmap = LinearSegmentedColormap.from_list('custom', [\"lightcoral\", \"white\", \"lightgreen\"], N=256)\n",
    "\n",
    "    fig, ax = plt.subplots(figsize=(8, 6))\n",
    "    heatmap = sns.heatmap(policy_grid, linewidth=0, annot=True, cmap=custom_cmap, cbar=False)\n",
    "    heatmap.set_title('Policy: ' + titles)\n",
    "    heatmap.set_xlabel(\"Player sum\")\n",
    "    heatmap.set_ylabel(\"Dealer card\")\n",
    "    heatmap.set_xticklabels(range(12, 22))\n",
    "    heatmap.set_yticklabels(['A'] + list(range(2, 11)), fontsize=12)\n",
    "\n",
    "    legend_elements = [Patch(facecolor='lightgreen', edgecolor='black', label='Hit'),\n",
    "                       Patch(facecolor='lightcoral', edgecolor='black', label='Stick')]\n",
    "    heatmap.legend(handles=legend_elements, bbox_to_anchor=(1.3, 1))\n",
    "#     plt.savefig(\"SARSA \" + titles) #save policy grid as png\n",
    "    plt.show()"
   ]
  },
  {
   "cell_type": "code",
   "execution_count": 8,
   "metadata": {},
   "outputs": [],
   "source": [
    "episodes = 1_000_000\n",
    "lr = 0.07146068584965157\n",
    "epsilon = 0.05212331363684942\n",
    "gamma = 0.029098902913149344\n",
    "\n",
    "q_values, winrate = train_sarsa(env, episodes, lr, epsilon, gamma)"
   ]
  },
  {
   "cell_type": "code",
   "execution_count": 9,
   "metadata": {},
   "outputs": [],
   "source": [
    "def test_policy(env, q_values, num_episodes):\n",
    "    wins = 0\n",
    "    losses = 0\n",
    "    total_reward = 0  \n",
    "    \n",
    "    for _ in range(num_episodes):\n",
    "        state = env.reset()[0]\n",
    "        done = False\n",
    "        episode_reward = 0  \n",
    "        \n",
    "        while not done:\n",
    "            action = get_best_action(state, q_values)\n",
    "            next_state, reward, done, _, _ = env.step(action)\n",
    "            episode_reward += reward  \n",
    "            state = next_state\n",
    "            \n",
    "    \n",
    "        if reward >= 1.0:\n",
    "            wins += 1\n",
    "        elif reward == -1.0:\n",
    "            losses += 1\n",
    "        \n",
    "        total_reward += episode_reward \n",
    "    \n",
    "    win_rate = wins / num_episodes\n",
    "    average_reward = total_reward / num_episodes \n",
    "    \n",
    "    print(f\"Tested on {num_episodes} episodes\")\n",
    "    print(f\"Win rate: {win_rate * 100:.2f}%\")\n",
    "    print(f\"Loss rate: {(losses / num_episodes) * 100:.2f}%\")\n",
    "    print(f\"Average reward: {average_reward:.2f}\")\n",
    "    return win_rate, average_reward\n"
   ]
  },
  {
   "cell_type": "code",
   "execution_count": 10,
   "metadata": {},
   "outputs": [],
   "source": [
    "def get_best_action(state, q_values):\n",
    "    return np.argmax(q_values[state])"
   ]
  },
  {
   "cell_type": "code",
   "execution_count": 11,
   "metadata": {},
   "outputs": [
    {
     "name": "stdout",
     "output_type": "stream",
     "text": [
      "Tested on 1000 episodes\n",
      "Win rate: 43.30%\n",
      "Loss rate: 51.00%\n",
      "Average reward: -0.08\n"
     ]
    }
   ],
   "source": [
    "num_episodes = 1_000_000\n",
    "win_rate = test_policy(env, q_values, num_episodes)"
   ]
  },
  {
   "cell_type": "code",
   "execution_count": 12,
   "metadata": {},
   "outputs": [
    {
     "data": {
      "image/png": "[encoded data removed]",
      "text/plain": [
       "<Figure size 576x432 with 1 Axes>"
      ]
     },
     "metadata": {
      "needs_background": "light"
     },
     "output_type": "display_data"
    },
    {
     "data": {
      "image/png": "[encoded data removed]",
      "text/plain": [
       "<Figure size 576x432 with 1 Axes>"
      ]
     },
     "metadata": {
      "needs_background": "light"
     },
     "output_type": "display_data"
    }
   ],
   "source": [
    "use_ace = True\n",
    "value_grid, policy_grid = create_grids(q_values, use_ace)\n",
    "create_plots(policy_grid, titles=\"With usable ace\")\n",
    "\n",
    "use_ace = False\n",
    "value_grid, policy_grid = create_grids(q_values, use_ace)\n",
    "create_plots(policy_grid, titles=\"Without usable ace\")\n"
   ]
  },
  {
   "cell_type": "code",
   "execution_count": 13,
   "metadata": {},
   "outputs": [
    {
     "name": "stdout",
     "output_type": "stream",
     "text": [
      "Tested on 1000 episodes\n",
      "Win rate: 39.60%\n",
      "Loss rate: 53.90%\n",
      "Average reward: -0.14\n",
      "1 of 10 actions completed...\n",
      "Tested on 1000 episodes\n",
      "Win rate: 41.60%\n",
      "Loss rate: 50.90%\n",
      "Average reward: -0.09\n",
      "2 of 10 actions completed...\n",
      "Tested on 1000 episodes\n",
      "Win rate: 39.20%\n",
      "Loss rate: 52.10%\n",
      "Average reward: -0.13\n",
      "3 of 10 actions completed...\n",
      "Tested on 1000 episodes\n",
      "Win rate: 40.80%\n",
      "Loss rate: 51.20%\n",
      "Average reward: -0.10\n",
      "4 of 10 actions completed...\n",
      "Tested on 1000 episodes\n",
      "Win rate: 40.60%\n",
      "Loss rate: 53.70%\n",
      "Average reward: -0.13\n",
      "5 of 10 actions completed...\n",
      "Tested on 1000 episodes\n",
      "Win rate: 39.20%\n",
      "Loss rate: 53.30%\n",
      "Average reward: -0.14\n",
      "6 of 10 actions completed...\n",
      "Tested on 1000 episodes\n",
      "Win rate: 44.70%\n",
      "Loss rate: 49.50%\n",
      "Average reward: -0.05\n",
      "7 of 10 actions completed...\n",
      "Tested on 1000 episodes\n",
      "Win rate: 42.00%\n",
      "Loss rate: 51.60%\n",
      "Average reward: -0.10\n",
      "8 of 10 actions completed...\n",
      "Tested on 1000 episodes\n",
      "Win rate: 41.10%\n",
      "Loss rate: 53.00%\n",
      "Average reward: -0.12\n",
      "9 of 10 actions completed...\n",
      "Tested on 1000 episodes\n",
      "Win rate: 41.80%\n",
      "Loss rate: 51.90%\n",
      "Average reward: -0.10\n",
      "10 of 10 actions completed...\n",
      "Average win rate: 41.06%\n",
      "[(0.396, -0.143), (0.416, -0.093), (0.392, -0.129), (0.408, -0.104), (0.406, -0.131), (0.392, -0.141), (0.447, -0.048), (0.42, -0.096), (0.411, -0.119), (0.418, -0.101)]\n"
     ]
    }
   ],
   "source": [
    "def run_iterations(env, episodes, q_values, num_iterations):\n",
    "    total_win = 0\n",
    "    win_list = []\n",
    "\n",
    "    for _ in range(num_iterations):\n",
    "        win_rate = test_policy(env, q_values, episodes)\n",
    "        total_win += win_rate[0]\n",
    "        win_list.append(win_rate[0])\n",
    "        print(\"{} of {} actions completed...\".format(_ + 1, num_iterations))\n",
    "\n",
    "    avg_win_rate = total_win / num_iterations\n",
    "\n",
    "    print('Average win rate: {:.2f}%'.format(avg_win_rate * 100))\n",
    "    print(win_list)\n",
    "\n",
    "episodes = 1_000_000\n",
    "num_itterations = 10\n",
    "\n",
    "run_iterations(env, episodes, q_values, num_itterations)"
   ]
  },
  {
   "cell_type": "code",
   "execution_count": null,
   "metadata": {},
   "outputs": [],
   "source": [
    "#[42.40, 42.44, 42.34, 42.44, 42.41, 42.46, 42.44, 42.40, 42.45, 42.26]"
   ]
  }
 ],
 "metadata": {
  "kernelspec": {
   "display_name": "Python 3",
   "language": "python",
   "name": "python3"
  },
  "language_info": {
   "codemirror_mode": {
    "name": "ipython",
    "version": 3
   },
   "file_extension": ".py",
   "mimetype": "text/x-python",
   "name": "python",
   "nbconvert_exporter": "python",
   "pygments_lexer": "ipython3",
   "version": "3.7.4"
  }
 },
 "nbformat": 4,
 "nbformat_minor": 4
}
