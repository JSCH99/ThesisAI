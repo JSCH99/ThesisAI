{
 "cells": [
  {
   "cell_type": "code",
   "execution_count": null,
   "metadata": {},
   "outputs": [],
   "source": [
    "# Part of the code is based on: https://medium.com/gradientcrescent/fundamentals-of-reinforcement-learning-understanding-blackjack-strategy-through-monte-carlo-88c9b85194ed\n",
    "# https://github.com/dennybritz/reinforcement-learning/blob/master/MC/Off-Policy%20MC%20Control%20with%20Weighted%20Importance%20Sampling%20Solution.ipynb"
   ]
  },
  {
   "cell_type": "code",
   "execution_count": 1,
   "metadata": {},
   "outputs": [],
   "source": [
    "import gym\n",
    "import numpy as np\n",
    "import pandas as pd\n",
    "from collections import defaultdict\n",
    "from matplotlib.patches import Patch\n",
    "import matplotlib.pyplot as plt\n",
    "import seaborn as sns\n",
    "from matplotlib.colors import LinearSegmentedColormap\n",
    "from hyperopt import fmin, tpe, hp"
   ]
  },
  {
   "cell_type": "code",
   "execution_count": 2,
   "metadata": {},
   "outputs": [],
   "source": [
    "env = gym.make('Blackjack-v1')"
   ]
  },
  {
   "cell_type": "code",
   "execution_count": 3,
   "metadata": {},
   "outputs": [],
   "source": [
    "def initialize_q_values(env):\n",
    "    nA = env.action_space.n\n",
    "    return defaultdict(lambda: np.zeros(nA))\n",
    "\n",
    "def generate_random_policy(n_actions):\n",
    "    return np.ones(n_actions) / n_actions\n",
    "\n",
    "def generate_epsilon_greedy_policy(Q, epsilon, n_actions):\n",
    "    policy = np.ones(n_actions) * epsilon / n_actions\n",
    "    best_action = np.argmax(Q)\n",
    "    policy[best_action] += 1 - epsilon\n",
    "    return policy"
   ]
  },
  {
   "cell_type": "code",
   "execution_count": 4,
   "metadata": {},
   "outputs": [],
   "source": [
    "def off_policy_mc(env, episodes, epsilon, gamma):\n",
    "    stats = []\n",
    "    episode = 0\n",
    "    n_actions = env.action_space.n\n",
    "    q_values = initialize_q_values(env)\n",
    "    cum_weights = defaultdict(lambda: np.zeros(n_actions))\n",
    "\n",
    "    total_wins = 0\n",
    "    total_losses = 0\n",
    "#     total_reward = 0\n",
    "\n",
    "    for _ in range(episodes):\n",
    "        state = env.reset()[0]\n",
    "        store_data = []\n",
    "        cum_reward = 0\n",
    "        weight = 1\n",
    "\n",
    "        done = False\n",
    "        while not done:\n",
    "            policy = generate_epsilon_greedy_policy(q_values[state], epsilon, n_actions)\n",
    "            action = np.random.choice(n_actions, p=policy)\n",
    "            next_state, reward, done, _, _ = env.step(action)\n",
    "            store_data.append((state, action, reward))\n",
    "            state = next_state\n",
    "\n",
    "        for i in reversed(range(len(store_data))):\n",
    "            state, action, reward = store_data[i]\n",
    "            cum_reward = gamma * cum_reward + reward\n",
    "            episode += 1\n",
    "            cum_weights[state][action] += weight\n",
    "            q_values[state][action] += (weight / cum_weights[state][action]) * (cum_reward - q_values[state][action])\n",
    "            \n",
    "            if action != np.argmax(q_values[state]):\n",
    "                break\n",
    "            weight *= 1 / policy[action]\n",
    "            \n",
    "#             total_reward += reward\n",
    "        \n",
    "            if reward == 1.0 or reward >= 1:\n",
    "                total_wins += 1\n",
    "            elif reward == -1.0 or reward == -1:\n",
    "                total_losses += 1\n",
    "                \n",
    "            winrates = (total_wins/episode)*100\n",
    "            \n",
    "            stats.append([episode, winrates])\n",
    "\n",
    "\n",
    "    win_rate = total_wins / episodes\n",
    "\n",
    "    return q_values, win_rate"
   ]
  },
  {
   "cell_type": "code",
   "execution_count": 21,
   "metadata": {},
   "outputs": [
    {
     "name": "stdout",
     "output_type": "stream",
     "text": [
      "100%|██████████| 100/100 [00:03<00:00, 32.09trial/s, best loss: -0.47]\n",
      "Best hyperparameters: {'epsilon': 0.11735554188403041, 'gamma': 0.11518428061248287}\n"
     ]
    }
   ],
   "source": [
    "space = {\n",
    "    'epsilon': hp.uniform('epsilon', 0, 1),\n",
    "    'gamma': hp.uniform('gamma', 0, 1)\n",
    "}\n",
    "def objective(params):\n",
    "    epsilon = params['epsilon']\n",
    "    gamma = params['gamma']\n",
    "    n_episodes = 100_000\n",
    "\n",
    "    q_values, winrate = off_policy_mc(env, n_episodes, epsilon, gamma)\n",
    "    return -winrate #need to minimize the return\n",
    "\n",
    "# Run hyperparameter optimization\n",
    "best = fmin(fn=objective, space=space, algo=tpe.suggest, max_evals=100)\n",
    "print(\"Best hyperparameters:\", best)\n"
   ]
  },
  {
   "cell_type": "code",
   "execution_count": null,
   "metadata": {},
   "outputs": [],
   "source": [
    "# Part of the code for plotting the policy was used from: https://gymnasium.farama.org/tutorials/training_agents/blackjack_tutorial/"
   ]
  },
  {
   "cell_type": "code",
   "execution_count": 5,
   "metadata": {},
   "outputs": [],
   "source": [
    "def create_grids(agent, use_ace):\n",
    "   \n",
    "    usable_ace = use_ace\n",
    "    V = defaultdict(float)\n",
    "    policy = defaultdict(int)\n",
    "\n",
    "    for obs, action_values in agent.items():\n",
    "        V[obs] = np.max(action_values)\n",
    "        policy[obs] = np.argmax(action_values)\n",
    "\n",
    "    X, Y = np.meshgrid(\n",
    "        np.arange(12, 22),  \n",
    "        np.arange(1, 11))\n",
    "\n",
    "    Z = np.apply_along_axis(lambda obs: V[(obs[0], obs[1], usable_ace)], axis=2, arr=np.dstack([X, Y]))\n",
    "    value_grid = X, Y, Z\n",
    "\n",
    "    policy_grid = np.apply_along_axis(lambda obs: policy[(obs[0], obs[1], usable_ace)],\n",
    "                                      axis=2, arr=np.dstack([X, Y]))\n",
    "    \n",
    "    return policy_grid\n",
    "\n",
    "\n",
    "def create_plots(policy_grid, titles):\n",
    "    custom_cmap = LinearSegmentedColormap.from_list('custom', [\"lightcoral\", \"white\", \"lightgreen\"], N=256)\n",
    "\n",
    "    fig, ax = plt.subplots(figsize=(8, 6))\n",
    "    heatmap = sns.heatmap(policy_grid, linewidth=0, annot=True, cmap=custom_cmap, cbar=False)\n",
    "    heatmap.set_xlabel(\"Player sum\")\n",
    "    heatmap.set_ylabel(\"Dealer card\")\n",
    "    heatmap.set_xticklabels(range(12, 22))\n",
    "    heatmap.set_yticklabels(['A'] + list(range(2, 11)), fontsize=12)\n",
    "\n",
    "    legend_elements = [Patch(facecolor='lightgreen', edgecolor='black', label='Hit'),\n",
    "                       Patch(facecolor='lightcoral', edgecolor='black', label='Stick')]\n",
    "    heatmap.legend(handles=legend_elements, bbox_to_anchor=(1.3, 1))\n",
    "#     plt.savefig(\"MC \" + titles)\n",
    "    plt.show()"
   ]
  },
  {
   "cell_type": "code",
   "execution_count": 10,
   "metadata": {},
   "outputs": [],
   "source": [
    "episodes = 1_000_000\n",
    "epsilon = 0.02015338000393778\n",
    "gamma = 0.296508985864378\n",
    "\n",
    "q_values, win_rate = off_policy_mc(env, episodes, epsilon, gamma)"
   ]
  },
  {
   "cell_type": "code",
   "execution_count": 11,
   "metadata": {},
   "outputs": [],
   "source": [
    "def test_policy(env, q_values, num_episodes):\n",
    "    wins = 0\n",
    "    losses = 0\n",
    "    total_reward = 0  \n",
    "    stats = []\n",
    "    \n",
    "    for episode in range(num_episodes):\n",
    "        state = env.reset()[0]\n",
    "        done = False\n",
    "        episode_reward = 0  \n",
    "        \n",
    "        while not done:\n",
    "            action = get_best_action(state, q_values)\n",
    "            next_state, reward, done, _, _ = env.step(action)\n",
    "            episode_reward += reward  \n",
    "            state = next_state\n",
    "            \n",
    "        if reward >= 1.0:\n",
    "            wins += 1\n",
    "        elif reward == -1.0:\n",
    "            losses += 1\n",
    "        \n",
    "        win_rate = (wins / (episode + 1)) * 100\n",
    "        stats.append([episode, win_rate])\n",
    "        \n",
    "        total_reward += episode_reward \n",
    "    \n",
    "    win_rate = wins / num_episodes\n",
    "    average_reward = total_reward / num_episodes \n",
    "    \n",
    "    print(f\"Tested on {num_episodes} episodes\")\n",
    "    print(f\"Win rate: {win_rate * 100:.2f}%\")\n",
    "    print(f\"Loss rate: {(losses / num_episodes) * 100:.2f}%\")\n",
    "    print(f\"Average reward: {average_reward:.2f}\")\n",
    "\n",
    "    df = pd.DataFrame(stats, columns=['Episode', 'WinRate'])\n",
    "    df.to_csv(\"off_MC.csv\", index=False)"
   ]
  },
  {
   "cell_type": "code",
   "execution_count": 12,
   "metadata": {},
   "outputs": [],
   "source": [
    "def get_best_action(state, q_values):\n",
    "    return np.argmax(q_values[state])"
   ]
  },
  {
   "cell_type": "code",
   "execution_count": 13,
   "metadata": {},
   "outputs": [
    {
     "name": "stdout",
     "output_type": "stream",
     "text": [
      "Tested on 1000000 episodes\n",
      "Win rate: 43.17%\n",
      "Loss rate: 47.98%\n",
      "Average reward: -0.05\n"
     ]
    }
   ],
   "source": [
    "num_test_episodes = 1_000_000\n",
    "win_rate = test_policy(env, q_values, num_test_episodes)"
   ]
  },
  {
   "cell_type": "code",
   "execution_count": 23,
   "metadata": {},
   "outputs": [
    {
     "data": {
      "image/png": "[encoded data removed]",
      "text/plain": [
       "<Figure size 576x432 with 1 Axes>"
      ]
     },
     "metadata": {
      "needs_background": "light"
     },
     "output_type": "display_data"
    },
    {
     "data": {
      "image/png": "[encoded data removed]",
      "text/plain": [
       "<Figure size 576x432 with 1 Axes>"
      ]
     },
     "metadata": {
      "needs_background": "light"
     },
     "output_type": "display_data"
    }
   ],
   "source": [
    "use_ace = True\n",
    "policy_grid = create_grids(q_values, use_ace)\n",
    "create_plots(policy_grid, titles=\"With usable ace\")\n",
    "\n",
    "use_ace = False\n",
    "policy_grid = create_grids(q_values, use_ace)\n",
    "create_plots(policy_grid, titles=\"Without usable ace\")\n"
   ]
  },
  {
   "cell_type": "code",
   "execution_count": 14,
   "metadata": {},
   "outputs": [
    {
     "name": "stdout",
     "output_type": "stream",
     "text": [
      "Tested on 1000 episodes\n",
      "Win rate: 42.30%\n",
      "Loss rate: 49.70%\n",
      "Average reward: -0.07\n",
      "1 of 10 actions completed...\n",
      "Tested on 1000 episodes\n",
      "Win rate: 40.00%\n",
      "Loss rate: 52.10%\n",
      "Average reward: -0.12\n",
      "2 of 10 actions completed...\n",
      "Tested on 1000 episodes\n",
      "Win rate: 40.50%\n",
      "Loss rate: 51.90%\n",
      "Average reward: -0.11\n",
      "3 of 10 actions completed...\n",
      "Tested on 1000 episodes\n",
      "Win rate: 42.70%\n",
      "Loss rate: 50.00%\n",
      "Average reward: -0.07\n",
      "4 of 10 actions completed...\n",
      "Tested on 1000 episodes\n",
      "Win rate: 39.30%\n",
      "Loss rate: 53.50%\n",
      "Average reward: -0.14\n",
      "5 of 10 actions completed...\n",
      "Tested on 1000 episodes\n",
      "Win rate: 40.80%\n",
      "Loss rate: 51.20%\n",
      "Average reward: -0.10\n",
      "6 of 10 actions completed...\n",
      "Tested on 1000 episodes\n",
      "Win rate: 41.10%\n",
      "Loss rate: 53.10%\n",
      "Average reward: -0.12\n",
      "7 of 10 actions completed...\n",
      "Tested on 1000 episodes\n",
      "Win rate: 42.20%\n",
      "Loss rate: 50.00%\n",
      "Average reward: -0.08\n",
      "8 of 10 actions completed...\n",
      "Tested on 1000 episodes\n",
      "Win rate: 43.30%\n",
      "Loss rate: 49.50%\n",
      "Average reward: -0.06\n",
      "9 of 10 actions completed...\n",
      "Tested on 1000 episodes\n",
      "Win rate: 42.40%\n",
      "Loss rate: 51.30%\n",
      "Average reward: -0.09\n",
      "10 of 10 actions completed...\n",
      "Average win rate: 41.46%\n",
      "[0.423, 0.4, 0.405, 0.427, 0.393, 0.408, 0.411, 0.422, 0.433, 0.424]\n"
     ]
    }
   ],
   "source": [
    "def run_iterations(env, episodes, q_values, num_iterations):\n",
    "    total_win = 0\n",
    "    win_list = []\n",
    "\n",
    "    for _ in range(num_iterations):\n",
    "        win_rate = test_policy(env, q_values, episodes)\n",
    "        total_win += win_rate[0]\n",
    "        win_list.append(win_rate[0])\n",
    "        print(\"{} of {} actions completed...\".format(_ + 1, num_iterations))\n",
    "\n",
    "    avg_win_rate = total_win / num_iterations\n",
    "\n",
    "    print('Average win rate: {:.2f}%'.format(avg_win_rate * 100))\n",
    "    print(win_list)\n",
    "    \n",
    "episodes = 1_000_000\n",
    "num_itterations = 10\n",
    "\n",
    "run_iterations(env, episodes, q_values, num_itterations)"
   ]
  },
  {
   "cell_type": "code",
   "execution_count": null,
   "metadata": {},
   "outputs": [],
   "source": []
  }
 ],
 "metadata": {
  "kernelspec": {
   "display_name": "Python 3",
   "language": "python",
   "name": "python3"
  },
  "language_info": {
   "codemirror_mode": {
    "name": "ipython",
    "version": 3
   },
   "file_extension": ".py",
   "mimetype": "text/x-python",
   "name": "python",
   "nbconvert_exporter": "python",
   "pygments_lexer": "ipython3",
   "version": "3.7.4"
  }
 },
 "nbformat": 4,
 "nbformat_minor": 4
}
