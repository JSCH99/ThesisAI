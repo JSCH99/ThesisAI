{
 "cells": [
  {
   "cell_type": "code",
   "execution_count": null,
   "metadata": {},
   "outputs": [],
   "source": [
    "# Part of the code is based on: https://medium.com/gradientcrescent/fundamentals-of-reinforcement-learning-understanding-blackjack-strategy-through-monte-carlo-88c9b85194ed\n",
    "# https://github.com/AdamOlsson/rl_blackjack/blob/master/mc_control.py"
   ]
  },
  {
   "cell_type": "code",
   "execution_count": 15,
   "metadata": {},
   "outputs": [],
   "source": [
    "import gym\n",
    "import numpy as np\n",
    "from collections import defaultdict\n",
    "from matplotlib.patches import Patch\n",
    "import matplotlib.pyplot as plt\n",
    "import seaborn as sns\n",
    "from  matplotlib.colors import LinearSegmentedColormap\n",
    "from hyperopt import fmin, tpe, hp\n",
    "import pandas as pd"
   ]
  },
  {
   "cell_type": "code",
   "execution_count": 16,
   "metadata": {},
   "outputs": [],
   "source": [
    "env = gym.make('Blackjack-v1')"
   ]
  },
  {
   "cell_type": "code",
   "execution_count": 17,
   "metadata": {},
   "outputs": [],
   "source": [
    "def initialize_q_values(env):\n",
    "    nA = env.action_space.n\n",
    "    return defaultdict(lambda: np.zeros(nA))\n",
    "\n",
    "def generate_random_policy(n_actions):\n",
    "    return np.ones(n_actions) / n_actions\n",
    "\n",
    "def generate_epsilon_greedy_policy(Q, epsilon, n_actions):\n",
    "    policy = np.ones(n_actions) * epsilon / n_actions\n",
    "    best_action = np.argmax(Q)\n",
    "    policy[best_action] += 1 - epsilon\n",
    "    return policy"
   ]
  },
  {
   "cell_type": "code",
   "execution_count": 20,
   "metadata": {},
   "outputs": [],
   "source": [
    "def train_mc(env, episodes, epsilon, gamma):\n",
    "    stats = []\n",
    "    win = 0\n",
    "#     loss = 0\n",
    "#     total_reward = 0\n",
    "    episode = 0\n",
    "    n_actions = env.action_space.n\n",
    "    returns_sum = defaultdict(float) #keep track of sum\n",
    "    returns_count = defaultdict(float) #keep track of count\n",
    "    q_values = initialize_q_values(env)\n",
    "\n",
    "    for _ in range(episodes):\n",
    "        state = env.reset()[0]\n",
    "        store_data = []\n",
    "        cum_reward = 0\n",
    "        \n",
    "        done = False\n",
    "        while not done:\n",
    "            policy = generate_epsilon_greedy_policy(q_values[state], epsilon, n_actions)\n",
    "            action = np.random.choice(n_actions, p=policy)\n",
    "            next_state, reward, done, _, _ = env.step(action)\n",
    "            store_data.append((state, action, reward))\n",
    "            state = next_state\n",
    "            \n",
    "        for i in reversed(range(len(store_data))):\n",
    "            state, action, reward = store_data[i]\n",
    "            episode += 1\n",
    "            cum_reward = (cum_reward * gamma) + reward\n",
    "            returns_sum[state, action] += cum_reward\n",
    "            returns_count[state, action] += 1\n",
    "            q_values[state][action] = returns_sum[state, action] / returns_count[state, action]\n",
    "            \n",
    "#             total_reward += reward\n",
    "            if reward >= 1.0:\n",
    "                win += 1\n",
    "#             elif reward == -1.0:\n",
    "#                 loss += 1\n",
    "                \n",
    "        winrates = (win/episode)*100\n",
    "            \n",
    "        stats.append([episode, winrates])\n",
    "            \n",
    "#     df = pd.DataFrame(stats, columns=['Episode', 'WinRates'])\n",
    "#     df.to_csv(\"monte_carlo-on_stats\", index=False)\n",
    "            \n",
    "    winrate = win / episodes\n",
    "#     lossrate = loss / episodes\n",
    "#     avg_reward = total_reward / episodes\n",
    "\n",
    "#     print('Win rate: {:.2f}%'.format(winrate * 100))\n",
    "#     print('Loss rate: {:.2f}%'.format(lossrate * 100))\n",
    "#     print('Average reward: {:.4f}'.format(avg_reward))\n",
    "\n",
    "    return q_values, winrate\n"
   ]
  },
  {
   "cell_type": "code",
   "execution_count": 21,
   "metadata": {},
   "outputs": [
    {
     "name": "stdout",
     "output_type": "stream",
     "text": [
      "100%|██████████| 100/100 [00:02<00:00, 35.32trial/s, best loss: -0.5]\n",
      "Best hyperparameters: {'epsilon': 0.27350869204734585, 'gamma': 0.23505091862589833}\n"
     ]
    }
   ],
   "source": [
    "space = {\n",
    "    'epsilon': hp.uniform('epsilon', 0, 1),\n",
    "    'gamma': hp.uniform('gamma', 0, 1)\n",
    "}\n",
    "def objective(params):\n",
    "    epsilon = params['epsilon']\n",
    "    gamma = params['gamma']\n",
    "    n_episodes = 100_000\n",
    "\n",
    "    q_values, winrate = train_mc(env, n_episodes, epsilon, gamma)\n",
    "    return -winrate #need to minimize the return\n",
    "\n",
    "# Run hyperparameter optimization\n",
    "best = fmin(fn=objective, space=space, algo=tpe.suggest, max_evals=100)\n",
    "print(\"Best hyperparameters:\", best)\n"
   ]
  },
  {
   "cell_type": "code",
   "execution_count": null,
   "metadata": {},
   "outputs": [],
   "source": [
    "# Part of the code for plotting the policy was used from: https://gymnasium.farama.org/tutorials/training_agents/blackjack_tutorial/"
   ]
  },
  {
   "cell_type": "code",
   "execution_count": 6,
   "metadata": {},
   "outputs": [],
   "source": [
    "def create_grids(agent, use_ace):\n",
    "   \n",
    "    usable_ace = use_ace\n",
    "    V = defaultdict(float)\n",
    "    policy = defaultdict(int)\n",
    "\n",
    "    for obs, action_values in agent.items():\n",
    "        V[obs] = np.max(action_values)\n",
    "        policy[obs] = np.argmax(action_values)\n",
    "\n",
    "    X, Y = np.meshgrid(\n",
    "        np.arange(12, 22),  \n",
    "        np.arange(1, 11))\n",
    "\n",
    "    Z = np.apply_along_axis(lambda obs: V[(obs[0], obs[1], usable_ace)], axis=2, arr=np.dstack([X, Y]))\n",
    "    value_grid = X, Y, Z\n",
    "\n",
    "    policy_grid = np.apply_along_axis(lambda obs: policy[(obs[0], obs[1], usable_ace)],\n",
    "                                      axis=2, arr=np.dstack([X, Y]))\n",
    "    \n",
    "    return policy_grid\n",
    "\n",
    "\n",
    "def create_plots(policy_grid, titles):\n",
    "    custom_cmap = LinearSegmentedColormap.from_list('custom', [\"lightcoral\", \"white\", \"lightgreen\"], N=256)\n",
    "\n",
    "    fig, ax = plt.subplots(figsize=(8, 6))\n",
    "    heatmap = sns.heatmap(policy_grid, linewidth=0, annot=True, cmap=custom_cmap, cbar=False)\n",
    "    heatmap.set_title('Policy: ' + titles)\n",
    "    heatmap.set_xlabel(\"Player sum\")\n",
    "    heatmap.set_ylabel(\"Dealer card\")\n",
    "    heatmap.set_xticklabels(range(12, 22))\n",
    "    heatmap.set_yticklabels(['A'] + list(range(2, 11)), fontsize=12)\n",
    "\n",
    "    legend_elements = [Patch(facecolor='lightgreen', edgecolor='black', label='Hit'),\n",
    "                       Patch(facecolor='lightcoral', edgecolor='black', label='Stick')]\n",
    "    heatmap.legend(handles=legend_elements, bbox_to_anchor=(1.3, 1))\n",
    "#     plt.savefig(\"MC \" + titles)\n",
    "    plt.show()"
   ]
  },
  {
   "cell_type": "code",
   "execution_count": 7,
   "metadata": {},
   "outputs": [],
   "source": [
    "num_episodes = 1_000_000\n",
    "epsilon = 0.0334819407895151\n",
    "gamma = 0.2571\n",
    "\n",
    "q_values, winrate = train_mc(env, num_episodes, epsilon, gamma)"
   ]
  },
  {
   "cell_type": "code",
   "execution_count": null,
   "metadata": {},
   "outputs": [],
   "source": [
    "def test_policy(env, q_values, num_episodes):\n",
    "    wins = 0\n",
    "    losses = 0\n",
    "    total_reward = 0  \n",
    "    \n",
    "    for _ in range(num_episodes):\n",
    "        state = env.reset()[0]\n",
    "        done = False\n",
    "        episode_reward = 0  \n",
    "        \n",
    "        while not done:\n",
    "            action = get_best_action(state, q_values)\n",
    "            next_state, reward, done, _, _ = env.step(action)\n",
    "            episode_reward += reward  \n",
    "            state = next_state\n",
    "            \n",
    "    \n",
    "        if reward >= 1.0:\n",
    "            wins += 1\n",
    "        elif reward == -1.0:\n",
    "            losses += 1\n",
    "        \n",
    "        total_reward += episode_reward \n",
    "    \n",
    "    win_rate = wins / num_episodes\n",
    "    average_reward = total_reward / num_episodes \n",
    "    \n",
    "    print(f\"Tested on {num_episodes} episodes\")\n",
    "    print(f\"Win rate: {win_rate * 100:.2f}%\")\n",
    "    print(f\"Loss rate: {(losses / num_episodes) * 100:.2f}%\")\n",
    "    print(f\"Average reward: {average_reward:.2f}\")\n",
    "    return win_rate, average_reward"
   ]
  },
  {
   "cell_type": "code",
   "execution_count": null,
   "metadata": {},
   "outputs": [],
   "source": [
    "def get_best_action(state, q_values):\n",
    "    return np.argmax(q_values[state])"
   ]
  },
  {
   "cell_type": "code",
   "execution_count": 11,
   "metadata": {},
   "outputs": [
    {
     "name": "stdout",
     "output_type": "stream",
     "text": [
      "Tested on 1000 episodes\n",
      "Win rate: 43.90%\n",
      "Loss rate: 50.90%\n",
      "Average reward: -0.07\n"
     ]
    }
   ],
   "source": [
    "num_episodes = 1_000_000\n",
    "win_rate = test_policy(env, q_values, num_episodes)"
   ]
  },
  {
   "cell_type": "code",
   "execution_count": 13,
   "metadata": {},
   "outputs": [
    {
     "data": {
      "image/png": "[encoded data removed]",
      "text/plain": [
       "<Figure size 576x432 with 1 Axes>"
      ]
     },
     "metadata": {
      "needs_background": "light"
     },
     "output_type": "display_data"
    },
    {
     "data": {
      "image/png": "[encoded data removed]",
      "text/plain": [
       "<Figure size 576x432 with 1 Axes>"
      ]
     },
     "metadata": {
      "needs_background": "light"
     },
     "output_type": "display_data"
    }
   ],
   "source": [
    "use_ace = True\n",
    "policy_grid = create_grids(q_values, use_ace)\n",
    "create_plots(policy_grid, titles=\"With usable ace\")\n",
    "\n",
    "use_ace = False\n",
    "policy_grid = create_grids(q_values, use_ace)\n",
    "create_plots(policy_grid, titles=\"Without usable ace\")\n"
   ]
  },
  {
   "cell_type": "code",
   "execution_count": 14,
   "metadata": {},
   "outputs": [
    {
     "name": "stdout",
     "output_type": "stream",
     "text": [
      "Tested on 1000 episodes\n",
      "Win rate: 39.60%\n",
      "Loss rate: 55.10%\n",
      "Average reward: -0.15\n",
      "1 of 10 actions completed...\n",
      "Tested on 1000 episodes\n",
      "Win rate: 41.20%\n",
      "Loss rate: 50.00%\n",
      "Average reward: -0.09\n",
      "2 of 10 actions completed...\n",
      "Tested on 1000 episodes\n",
      "Win rate: 42.60%\n",
      "Loss rate: 50.80%\n",
      "Average reward: -0.08\n",
      "3 of 10 actions completed...\n",
      "Tested on 1000 episodes\n",
      "Win rate: 40.30%\n",
      "Loss rate: 53.70%\n",
      "Average reward: -0.13\n",
      "4 of 10 actions completed...\n",
      "Tested on 1000 episodes\n",
      "Win rate: 41.20%\n",
      "Loss rate: 52.10%\n",
      "Average reward: -0.11\n",
      "5 of 10 actions completed...\n",
      "Tested on 1000 episodes\n",
      "Win rate: 38.70%\n",
      "Loss rate: 53.90%\n",
      "Average reward: -0.15\n",
      "6 of 10 actions completed...\n",
      "Tested on 1000 episodes\n",
      "Win rate: 38.00%\n",
      "Loss rate: 56.40%\n",
      "Average reward: -0.18\n",
      "7 of 10 actions completed...\n",
      "Tested on 1000 episodes\n",
      "Win rate: 38.70%\n",
      "Loss rate: 56.00%\n",
      "Average reward: -0.17\n",
      "8 of 10 actions completed...\n",
      "Tested on 1000 episodes\n",
      "Win rate: 41.20%\n",
      "Loss rate: 52.20%\n",
      "Average reward: -0.11\n",
      "9 of 10 actions completed...\n",
      "Tested on 1000 episodes\n",
      "Win rate: 41.80%\n",
      "Loss rate: 50.60%\n",
      "Average reward: -0.09\n",
      "10 of 10 actions completed...\n",
      "Average win rate: 40.33%\n",
      "[0.396, 0.412, 0.426, 0.403, 0.412, 0.387, 0.38, 0.387, 0.412, 0.418]\n"
     ]
    }
   ],
   "source": [
    "def run_iterations(env, episodes, q_values, num_iterations):\n",
    "    total_win = 0\n",
    "    win_list = []\n",
    "\n",
    "    for _ in range(num_iterations):\n",
    "        win_rate = test_policy(env, q_values, episodes)\n",
    "        total_win += win_rate[0]\n",
    "        win_list.append(win_rate[0])\n",
    "        print(\"{} of {} actions completed...\".format(_ + 1, num_iterations))\n",
    "\n",
    "    avg_win_rate = total_win / num_iterations\n",
    "\n",
    "    print('Average win rate: {:.2f}%'.format(avg_win_rate * 100))\n",
    "    print(win_list)\n",
    "    \n",
    "episodes = 1_000_000\n",
    "num_itterations = 10\n",
    "\n",
    "run_iterations(env, episodes, q_values, num_itterations)"
   ]
  },
  {
   "cell_type": "code",
   "execution_count": null,
   "metadata": {},
   "outputs": [],
   "source": []
  },
  {
   "cell_type": "code",
   "execution_count": null,
   "metadata": {},
   "outputs": [],
   "source": []
  }
 ],
 "metadata": {
  "kernelspec": {
   "display_name": "Python 3",
   "language": "python",
   "name": "python3"
  },
  "language_info": {
   "codemirror_mode": {
    "name": "ipython",
    "version": 3
   },
   "file_extension": ".py",
   "mimetype": "text/x-python",
   "name": "python",
   "nbconvert_exporter": "python",
   "pygments_lexer": "ipython3",
   "version": "3.7.4"
  }
 },
 "nbformat": 4,
 "nbformat_minor": 4
}
